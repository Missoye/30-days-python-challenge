{
 "cells": [
  {
   "cell_type": "markdown",
   "id": "7c2eaa00-6927-4bdb-a4d8-490b92e39a5c",
   "metadata": {},
   "source": [
    "Number Analyzer: Determine if a number is even/odd, positive/negative/zero, and prime"
   ]
  },
  {
   "cell_type": "code",
   "execution_count": 34,
   "id": "3d5646af-06c6-4ef0-ba2e-0bdf8a9b0ba6",
   "metadata": {},
   "outputs": [],
   "source": [
    "def numaz(x):\n",
    "    if x==int(x):\n",
    "        if x%2==0:\n",
    "            print (\"It is even\") \n",
    "        else:\n",
    "            print(\"It is odd\")\n",
    "    else:\n",
    "        print(\"Only integers can be even or odd\")\n",
    "    if x<0:\n",
    "        print (f\"{x} is a negative number\")\n",
    "    elif x==0:\n",
    "        print (f\"{x} is a zero\")\n",
    "    else:\n",
    "          print (f\"{x} is a positive number\")\n",
    "    if x==int(x) and x>0:\n",
    "        list_no =[i for i in range (2,x) ]\n",
    "        factor_list=[j for j in list_no if x%j==0 ]\n",
    "        if len(factor_list)==0:\n",
    "           print (f\"{x} is a prime number\")\n",
    "        else: \n",
    "            print (f\"{x} is not a prime number\")\n",
    "    else:\n",
    "        print (f\"primes are defined on natural numbers of which {x} is not \")\n",
    "    "
   ]
  },
  {
   "cell_type": "code",
   "execution_count": 35,
   "id": "9f77cc44-6721-4887-ad6f-2d7abb02c2ef",
   "metadata": {},
   "outputs": [
    {
     "name": "stdout",
     "output_type": "stream",
     "text": [
      "It is odd\n",
      "19 is a positive number\n",
      "19 is a prime number\n"
     ]
    }
   ],
   "source": [
    "numaz(19)"
   ]
  },
  {
   "cell_type": "markdown",
   "id": "68846432-a3e2-4b80-a45c-b13e051f3874",
   "metadata": {},
   "source": [
    "<center><h1>DAY 2<h1>"
   ]
  },
  {
   "cell_type": "markdown",
   "id": "203ade6b-1265-40f2-80a0-40eb890ab1e3",
   "metadata": {},
   "source": [
    "Age Comparator: Ask for names and ages of two users, and determine\n",
    "who is older and by how many years."
   ]
  },
  {
   "cell_type": "code",
   "execution_count": 2,
   "id": "28254e6c-c604-4a9b-a8df-e39c068d15a9",
   "metadata": {},
   "outputs": [
    {
     "name": "stdin",
     "output_type": "stream",
     "text": [
      "What is the name of user 1?  MAMA\n",
      "What is the name of user 2?  DADA\n",
      "How old is user 1?  50\n",
      "How old is user 2?  68\n"
     ]
    },
    {
     "name": "stdout",
     "output_type": "stream",
     "text": [
      "DADA is older than MAMA by 18 year(s)\n"
     ]
    }
   ],
   "source": [
    "name1=input('What is the name of user 1? ')\n",
    "name2=input('What is the name of user 2? ')\n",
    "age1=input('How old is user 1? ')\n",
    "age2=input('How old is user 2? ')\n",
    "n_age1=int(age1)\n",
    "n_age2=int(age2)\n",
    "year_diff=abs(n_age2-n_age1)\n",
    "if n_age1>0 and n_age2>0:\n",
    "    if n_age2>n_age1:\n",
    "        print(f'{name2} is older than {name1} by {year_diff} year(s)')\n",
    "    else:\n",
    "         print(f'{name1} is older than {name2} by {year_diff} year(s)')\n",
    "else:\n",
    "    print('Age cannot be negative')"
   ]
  },
  {
   "cell_type": "markdown",
   "id": "0f7b7dad-f69c-44d8-b33f-8f1e8303403c",
   "metadata": {},
   "source": [
    "<center> \n",
    "    <h1> DAY 3<h1>\n",
    "</center>\n",
    "<left-align>Login System: Hardcode a username and password. User gets 3 tries\n",
    "before system locks.</left-align>"
   ]
  },
  {
   "cell_type": "code",
   "execution_count": 3,
   "id": "01e2c529-5260-45b4-a803-87b973ea92b2",
   "metadata": {},
   "outputs": [
    {
     "name": "stdin",
     "output_type": "stream",
     "text": [
      "enter username priscyawuah\n",
      "enter password 12\n",
      "enter password 1234\n"
     ]
    }
   ],
   "source": [
    "username=\"priscyawuah\"\n",
    "password=1234\n",
    "enter_user=input(\"enter username\")\n",
    "if enter_user==username:\n",
    "    count=0\n",
    "    while count<3:\n",
    "        enter_pass=int(input(\"enter password\"))\n",
    "        if enter_pass==password:\n",
    "            break\n",
    "        else:\n",
    "            count+=1\n",
    "        if count>=3:\n",
    "            print(\"system locked\")\n",
    "else: \n",
    "    print(\"wrong username\")"
   ]
  },
  {
   "cell_type": "markdown",
   "id": "6895e260-8c5f-4a96-a621-e9285b57a3ed",
   "metadata": {},
   "source": [
    "<center> \n",
    "    <h1> DAY 4<h1>\n",
    "</center>\n",
    "<left-align>FizzBuzz + Boom: Print 1–100 with ”Fizz” (3), ”Buzz” (5), ”FizzBuzz”\n",
    "(both), and replace any number containing 7 with ”Boom”.</left-align>"
   ]
  },
  {
   "cell_type": "code",
   "execution_count": 4,
   "id": "b1aa43d3-0b14-42b9-9e29-008e071b6ba9",
   "metadata": {},
   "outputs": [
    {
     "name": "stdout",
     "output_type": "stream",
     "text": [
      "1\n",
      "2\n",
      "Fizz\n",
      "4\n",
      "Buzz\n",
      "6\n",
      "boom\n",
      "8\n",
      "9\n",
      "10\n",
      "11\n",
      "12\n",
      "1Fizz\n",
      "14\n",
      "1Buzz\n",
      "16\n",
      "boom\n",
      "18\n",
      "19\n",
      "20\n",
      "21\n",
      "22\n",
      "2Fizz\n",
      "24\n",
      "2Buzz\n",
      "26\n",
      "boom\n",
      "28\n",
      "29\n",
      "Fizz0\n",
      "Fizz1\n",
      "Fizz2\n",
      "FizzFizz\n",
      "Fizz4\n",
      "FizzBuzz\n",
      "Fizz6\n",
      "boom\n",
      "Fizz8\n",
      "Fizz9\n",
      "40\n",
      "41\n",
      "42\n",
      "4Fizz\n",
      "44\n",
      "4Buzz\n",
      "46\n",
      "boom\n",
      "48\n",
      "49\n",
      "Buzz0\n",
      "Buzz1\n",
      "Buzz2\n",
      "BuzzFizz\n",
      "Buzz4\n",
      "BuzzBuzz\n",
      "Buzz6\n",
      "boom\n",
      "Buzz8\n",
      "Buzz9\n",
      "60\n",
      "61\n",
      "62\n",
      "6Fizz\n",
      "64\n",
      "6Buzz\n",
      "66\n",
      "boom\n",
      "68\n",
      "69\n",
      "boom\n",
      "boom\n",
      "boom\n",
      "boom\n",
      "boom\n",
      "boom\n",
      "boom\n",
      "boom\n",
      "boom\n",
      "boom\n",
      "80\n",
      "81\n",
      "82\n",
      "8Fizz\n",
      "84\n",
      "8Buzz\n",
      "86\n",
      "boom\n",
      "88\n",
      "89\n",
      "90\n",
      "91\n",
      "92\n",
      "9Fizz\n",
      "94\n",
      "9Buzz\n",
      "96\n",
      "boom\n",
      "98\n",
      "99\n",
      "100\n"
     ]
    }
   ],
   "source": [
    "for i in range(1,101):\n",
    "    k=str(i)\n",
    "    k2=k.replace('3',\"Fizz\")\n",
    "    k3=k2.replace('5',\"Buzz\")\n",
    "    if '7' in k3:\n",
    "        print(\"boom\")\n",
    "    else:\n",
    "        print (k3)"
   ]
  },
  {
   "cell_type": "code",
   "execution_count": 8,
   "id": "c70f693f-2d23-49cb-9f1f-1ce667776251",
   "metadata": {},
   "outputs": [
    {
     "data": {
      "text/plain": [
       "'100'"
      ]
     },
     "execution_count": 8,
     "metadata": {},
     "output_type": "execute_result"
    }
   ],
   "source": [
    "k"
   ]
  },
  {
   "cell_type": "markdown",
   "id": "1ae26e53-ff7a-400f-a720-d95537ed9e71",
   "metadata": {},
   "source": [
    "<center> \n",
    "    <h1> DAY 5<h1>\n",
    "</center>\n",
    "<left-align>Number Guessing Game: Random number 1–50. User guesses with hints\n",
    "(too high/low). Count attempts.</left-align>"
   ]
  },
  {
   "cell_type": "code",
   "execution_count": 5,
   "id": "8b44d0a3-bde8-4cef-bfaf-f38b2eba6f5f",
   "metadata": {},
   "outputs": [
    {
     "name": "stdin",
     "output_type": "stream",
     "text": [
      "Guess between 1 and 50, bitch:  5\n",
      "too small! Guess, bitch:  10\n",
      "too small! Guess, bitch:  30\n",
      "too huge! Guess, bitch:  25\n",
      "too huge! Guess, bitch:  20\n"
     ]
    },
    {
     "name": "stdout",
     "output_type": "stream",
     "text": [
      "so you needed 5 attempts, you dummy\n"
     ]
    }
   ],
   "source": [
    "import random\n",
    "rand=random.randint(1,51)\n",
    "count=0\n",
    "guess=input(\"Guess between 1 and 50, bitch: \")\n",
    "if int(guess)==rand:\n",
    "    print('Success!!. you are smart!!')\n",
    "else:\n",
    "    while int(guess)!=rand:\n",
    "        if int(guess)<rand:\n",
    "            guess=input(\"too small! Guess, bitch: \")\n",
    "        else:\n",
    "            guess=input(\"too huge! Guess, bitch: \")\n",
    "        count+=1\n",
    "\n",
    "print(f\"so you needed {count+1} attempts, you dummy\")"
   ]
  },
  {
   "cell_type": "code",
   "execution_count": 6,
   "id": "d80c822e-6752-4c6b-b032-bb764584efdf",
   "metadata": {},
   "outputs": [
    {
     "data": {
      "text/plain": [
       "'20'"
      ]
     },
     "execution_count": 6,
     "metadata": {},
     "output_type": "execute_result"
    }
   ],
   "source": [
    "guess\n"
   ]
  },
  {
   "cell_type": "markdown",
   "id": "3dfbab92-9632-4e93-b87a-da0e70a24dc8",
   "metadata": {},
   "source": [
    "<center> \n",
    "    <h1> DAY 6<h1>\n",
    "</center>\n",
    "<left-align>Digit Sum Checker: Sum the digits of an integer and check if divisible\n",
    "by 3 or 9.</left-align>"
   ]
  },
  {
   "cell_type": "code",
   "execution_count": 7,
   "id": "1f5f6ef1-efdc-4b6a-a6c6-82a596a2aa16",
   "metadata": {},
   "outputs": [
    {
     "name": "stdout",
     "output_type": "stream",
     "text": [
      "21\n",
      "21 is divisible by 3\n"
     ]
    }
   ],
   "source": [
    "n=13629\n",
    "sum=0\n",
    "while n>0:\n",
    "    m=n%10\n",
    "    sum+=m\n",
    "    n=n//10\n",
    "print(sum)\n",
    "if sum%3==0 or sum%9==0:\n",
    "    print(f'{sum} is divisible by 3')\n"
   ]
  },
  {
   "cell_type": "markdown",
   "id": "ec85a33a-7939-4b50-9de4-23c5495ce1e0",
   "metadata": {},
   "source": [
    "<center> \n",
    "    <h1> DAY 7<h1>\n",
    "</center>\n",
    "<left-align> Pattern Printer: Ask user for n. Print a right-angle triangle and a diamond if n is odd and ≥ 5..</left-align>"
   ]
  },
  {
   "cell_type": "code",
   "execution_count": null,
   "id": "4c974f06-97e4-4b9b-ab83-5d26ab803963",
   "metadata": {},
   "outputs": [],
   "source": []
  },
  {
   "cell_type": "code",
   "execution_count": 8,
   "id": "9340851f-7e1b-4ba5-808f-8b877ff33030",
   "metadata": {},
   "outputs": [
    {
     "name": "stdout",
     "output_type": "stream",
     "text": [
      "#\n",
      "##\n",
      "###\n",
      "####\n",
      "#####\n",
      "######\n",
      "#######\n",
      "########\n",
      "#########\n"
     ]
    }
   ],
   "source": [
    "n=10\n",
    "for i in range(1,n):\n",
    "    print('#'*i)"
   ]
  },
  {
   "cell_type": "code",
   "execution_count": 9,
   "id": "79ac6374-d6c2-4b1b-923a-1d593bb20725",
   "metadata": {},
   "outputs": [
    {
     "name": "stdout",
     "output_type": "stream",
     "text": [
      "        *        \n",
      "       **       \n",
      "      ***      \n",
      "     ****     \n",
      "    *****    \n",
      "   ******   \n",
      "  *******  \n",
      " ******** \n",
      "         *********         \n",
      "       *******        \n",
      "     *****       \n",
      "   ***      \n",
      " *     \n",
      "    \n",
      "   \n",
      "  \n",
      " \n"
     ]
    }
   ],
   "source": [
    "num = 9\n",
    "for i in range(1,num):\n",
    "    print(\" \"*((num-i))+\"*\"*i+\" \"*((num-i)))\n",
    "for i in range(0,num):\n",
    "    print(\" \"*((num-2*i))+\"*\"*(num-2*i)+\" \"*((num-i)))\n"
   ]
  },
  {
   "cell_type": "markdown",
   "id": "6f074f3b-c402-47a9-aff7-04ee0d881426",
   "metadata": {},
   "source": [
    "<center> \n",
    "    <h1> DAY 8<h1>\n",
    "</center>\n",
    "<left-align>Vowel Counter: Count the number of vowels in a given string.</left-align>\n",
    "<right-align>Loop through the string and compare lowercase letters to a vowel\n",
    "list</right-align>"
   ]
  },
  {
   "cell_type": "code",
   "execution_count": 39,
   "id": "4c72a94e-6e72-4f42-b0be-5a23dc3a7944",
   "metadata": {},
   "outputs": [
    {
     "name": "stdout",
     "output_type": "stream",
     "text": [
      "6\n"
     ]
    }
   ],
   "source": [
    "vowels=[\"a\",\"e\",\"i\",\"o\",\"u\",\"A\",\"E\",\"I\",\"O\",\"U\"]\n",
    "m=\"Uaareunu\"\n",
    "string=[i for i in m]\n",
    "countess=[]\n",
    "for j in string:\n",
    "    if j in vowels:\n",
    "        countess.append(j)\n",
    "print(len(countess))"
   ]
  },
  {
   "cell_type": "markdown",
   "id": "458d1ffd-804f-4186-aee1-a3f266bcbfba",
   "metadata": {},
   "source": [
    "<center> \n",
    "    <h1 style=\"color:blue\"> DAY 9<h1>\n",
    "</center>\n",
    "<left-align><span style=\"color:green\">Reverse String: Take input and print it reversed. Try both slicing and\n",
    "loops.</span>Try slicing: word[::-1]. Use a\n",
    "loop for practice</left-align><style>\n",
    "    h1{color:pink;\n",
    "      }\n",
    "</style>"
   ]
  },
  {
   "cell_type": "code",
   "execution_count": 10,
   "id": "ccb4059c-cc8a-4192-a6ed-5fff0da14ec1",
   "metadata": {},
   "outputs": [
    {
     "name": "stdin",
     "output_type": "stream",
     "text": [
      "Enter your input hyukj\n"
     ]
    },
    {
     "name": "stdout",
     "output_type": "stream",
     "text": [
      "jkuyh\n"
     ]
    }
   ],
   "source": [
    "#list=[4,5,2,1,7,8]\n",
    "#list[::-1]\n",
    "# for i in range(0,10):\n",
    "#    print(10-i)\n",
    "enter=input(\"Enter your input\")\n",
    "print(enter[::-1])\n",
    "\n"
   ]
  },
  {
   "cell_type": "code",
   "execution_count": 29,
   "id": "2478a8ea-3c14-49b6-975b-d17bec1161ef",
   "metadata": {},
   "outputs": [
    {
     "name": "stdout",
     "output_type": "stream",
     "text": [
      "gburj"
     ]
    }
   ],
   "source": [
    "k=\"jrubg\"\n",
    "for i in k:\n",
    "    print(k[len(k)-k.index(i)-1],end=\"\")"
   ]
  },
  {
   "cell_type": "markdown",
   "id": "4e3ff5e6-56b2-4265-a44e-3f73f986a286",
   "metadata": {},
   "source": [
    "\n",
    "<center> \n",
    "    <h1 style=\"color:gold;font-family:ariel\"> DAY 10<h1>\n",
    "</center>\n",
    "<left-align><span style=\"color:teal; font-family:Henny Penny\">Palindrome Checker: Check if a word or phrase is a palindrome (ignore\n",
    "spaces and casing).</span></left-align>\n"
   ]
  },
  {
   "cell_type": "code",
   "execution_count": 11,
   "id": "8a7a3efb-0ef2-4762-b77b-e403547730a4",
   "metadata": {},
   "outputs": [
    {
     "name": "stdin",
     "output_type": "stream",
     "text": [
      "enter the string you want to check madam\n"
     ]
    },
    {
     "name": "stdout",
     "output_type": "stream",
     "text": [
      "The word,madam, is a Palindrome\n"
     ]
    }
   ],
   "source": [
    "st=input(\"enter the string you want to check\")\n",
    "stri=st.lower()\n",
    "string=stri.replace(\" \",\"\")\n",
    "if string[::-1]==string:\n",
    "    print(f\"The word,{st}, is a Palindrome\")\n",
    "else:\n",
    "    print(f\"Bring me a Palindrome right now(a word, phrase, or sequence that reads the same backwards as forwards, e.g. madam or nurses run. )\")\n"
   ]
  },
  {
   "cell_type": "code",
   "execution_count": 12,
   "id": "d1692504-a009-4805-ac5f-23518602dd85",
   "metadata": {},
   "outputs": [
    {
     "data": {
      "text/plain": [
       "'madam'"
      ]
     },
     "execution_count": 12,
     "metadata": {},
     "output_type": "execute_result"
    }
   ],
   "source": [
    "string\n"
   ]
  },
  {
   "cell_type": "markdown",
   "id": "ad1d214f-f217-4a10-9462-491e793f5ba8",
   "metadata": {},
   "source": [
    "\n",
    "<center> \n",
    "    <h1 style=\"color:orange;font-family:georgia\"> DAY 11<h1>\n",
    "</center>\n",
    "<left-align><span style=\"color:teal; font-family:Henny Penny\">Multiplication Table: Print the 1–10 multiplication table for a given\n",
    "number.</span></left-align>\n"
   ]
  },
  {
   "cell_type": "code",
   "execution_count": 1,
   "id": "60ee0063-885b-46e9-8d3e-99d5700e48ec",
   "metadata": {},
   "outputs": [
    {
     "name": "stdin",
     "output_type": "stream",
     "text": [
      "input your number 5\n"
     ]
    },
    {
     "name": "stdout",
     "output_type": "stream",
     "text": [
      "5 x 1 = 5\n",
      "5 x 2 = 10\n",
      "5 x 3 = 15\n",
      "5 x 4 = 20\n",
      "5 x 5 = 25\n",
      "5 x 6 = 30\n",
      "5 x 7 = 35\n",
      "5 x 8 = 40\n",
      "5 x 9 = 45\n",
      "5 x 10 = 50\n"
     ]
    }
   ],
   "source": [
    "number=int(input(\"input your number\"))\n",
    "for i in range(1,11):\n",
    "    print (f\"{number} x {i} = {number*i}\")\n",
    "    "
   ]
  },
  {
   "cell_type": "markdown",
   "id": "56349bcc-3d5b-43aa-ba0b-3327aabc577d",
   "metadata": {},
   "source": [
    "<center> \n",
    "    <h1 style=\"color:red;font-family:georgia\"> DAY 12<h1>\n",
    "</center>\n",
    "<left-align><span style=\"color:teal; font-family:Henny Penny\">Word Counter: Count the number of words in a full sentence.\n",
    "</span></left-align>"
   ]
  },
  {
   "cell_type": "code",
   "execution_count": 4,
   "id": "09cbb673-4239-4cc4-9a00-0e7c4cc36786",
   "metadata": {},
   "outputs": [
    {
     "name": "stdin",
     "output_type": "stream",
     "text": [
      "what do you want to say? daddy my back aches\n"
     ]
    },
    {
     "name": "stdout",
     "output_type": "stream",
     "text": [
      "4\n"
     ]
    }
   ],
   "source": [
    "sentence=input('what do you want to say?')\n",
    "count=0\n",
    "for j in sentence:\n",
    "    if j==\" \":\n",
    "        count+=1\n",
    "print(count+1)"
   ]
  },
  {
   "cell_type": "markdown",
   "id": "c36c952c-fdfa-459f-abb4-832b72b8a01d",
   "metadata": {},
   "source": [
    "<center> \n",
    "    <h1 style=\"color:indigo;font-family:georgia\"> DAY 13<h1>\n",
    "</center>\n",
    "<left-align><span style=\"color:teal; font-family:Henny Penny\">Dash Replacer: Replace every space in a string with a dash (‘-‘)\n",
    "</span></left-align>"
   ]
  },
  {
   "cell_type": "code",
   "execution_count": 6,
   "id": "cd748cf1-14eb-4747-829f-463f9e31b7d2",
   "metadata": {},
   "outputs": [
    {
     "name": "stdin",
     "output_type": "stream",
     "text": [
      "what do you want to say? hello from the other side\n"
     ]
    },
    {
     "name": "stdout",
     "output_type": "stream",
     "text": [
      "hello-from-the-other-side\n"
     ]
    }
   ],
   "source": [
    "sentence_with_space=input('what do you want to say?')\n",
    "sentence_without_space=sentence_with_space.replace(\" \",\"-\")\n",
    "print(sentence_without_space)"
   ]
  },
  {
   "cell_type": "markdown",
   "id": "a99b742d-1726-44d6-acee-bec4e562a556",
   "metadata": {},
   "source": [
    "<center> \n",
    "    <h1 style=\"color:yellow;font-family:georgia\"> DAY 14<h1>\n",
    "</center>\n",
    "<left-align><span style=\"color:pink; font-family:Henny Penny\">Capitalizer: Capitalize the first letter of each word in a sentence (like a\n",
    "title)\n",
    "</span></left-align>"
   ]
  },
  {
   "cell_type": "code",
   "execution_count": 2,
   "id": "84ce6a56-5cb5-4ae6-bf9b-8808ce88895b",
   "metadata": {},
   "outputs": [
    {
     "name": "stdin",
     "output_type": "stream",
     "text": [
      "ENTER the sentence fishes are available\n"
     ]
    },
    {
     "data": {
      "text/plain": [
       "'Fishes Are Available'"
      ]
     },
     "execution_count": 2,
     "metadata": {},
     "output_type": "execute_result"
    }
   ],
   "source": [
    "sent=input('ENTER the sentence')\n",
    "sent.title()"
   ]
  },
  {
   "cell_type": "markdown",
   "id": "6e0d9f81-dd10-44dc-ae8f-979846aabd8c",
   "metadata": {},
   "source": [
    "<center> \n",
    "    <h1 style=\"color:green;font-family:georgia\"> DAY 15<h1>\n",
    "</center>\n",
    "List Summer: Create a list of numbers and return their total sum."
   ]
  },
  {
   "cell_type": "code",
   "execution_count": 6,
   "id": "ce34a555-4d57-4de4-bd28-1923ab3a38dd",
   "metadata": {},
   "outputs": [
    {
     "data": {
      "text/plain": [
       "35"
      ]
     },
     "execution_count": 6,
     "metadata": {},
     "output_type": "execute_result"
    }
   ],
   "source": [
    "number=[1,2,5,10,17]\n",
    "sum(number)"
   ]
  },
  {
   "cell_type": "code",
   "execution_count": 7,
   "id": "941ed1c6-ae79-4f5a-9a13-c9c091bc7a10",
   "metadata": {},
   "outputs": [
    {
     "name": "stdout",
     "output_type": "stream",
     "text": [
      "35\n"
     ]
    }
   ],
   "source": [
    "sum_num=0\n",
    "for i in number:\n",
    "    sum_num+=i\n",
    "print(sum_num)"
   ]
  },
  {
   "cell_type": "code",
   "execution_count": 8,
   "id": "c976c945-869a-4c50-a437-9e498edec4ec",
   "metadata": {},
   "outputs": [
    {
     "data": {
      "text/plain": [
       "82.0"
      ]
     },
     "execution_count": 8,
     "metadata": {},
     "output_type": "execute_result"
    }
   ],
   "source": [
    "410/5\n"
   ]
  },
  {
   "cell_type": "markdown",
   "id": "e9e912a7-a2a6-4500-8c5b-2567715642e2",
   "metadata": {},
   "source": [
    "<center> \n",
    "    <h1 style=\"color:ash;font-family:georgia\"> DAY 16<h1>\n",
    "</center>\n",
    "Duplicate Remover: Remove duplicates from a list and print the result."
   ]
  },
  {
   "cell_type": "code",
   "execution_count": 26,
   "id": "c4939c54-e00d-4219-9b3d-86a44dbd9387",
   "metadata": {},
   "outputs": [
    {
     "name": "stdout",
     "output_type": "stream",
     "text": [
      "[1, 3, 5, 8, 2, 7, 9]\n"
     ]
    }
   ],
   "source": [
    "duplicates=[1,3,3,5,5,8,2,7,9]\n",
    "non_duplicates=[]\n",
    "for i in duplicates:\n",
    "    if i in duplicates and i not in non_duplicates:\n",
    "        non_duplicates.append(i)\n",
    "print(non_duplicates)"
   ]
  },
  {
   "cell_type": "code",
   "execution_count": 27,
   "id": "b10e58bb-5247-4a7c-bc2c-ddd155606d82",
   "metadata": {},
   "outputs": [
    {
     "data": {
      "text/plain": [
       "[1, 3, 5, 8, 2, 7, 9]"
      ]
     },
     "execution_count": 27,
     "metadata": {},
     "output_type": "execute_result"
    }
   ],
   "source": [
    "non_duplicates"
   ]
  },
  {
   "cell_type": "markdown",
   "id": "0ee8936d-8614-4e8a-9c95-00368165d51c",
   "metadata": {},
   "source": [
    "<center> \n",
    "    <h1 style=\"color:red;font-family:cursive\"> DAY 17<h1>\n",
    "</center>Prime Checker (Function): Define a function to check if a number is\n",
    "prime."
   ]
  },
  {
   "cell_type": "code",
   "execution_count": 9,
   "id": "29a342f2-4557-48af-a264-666c139899b7",
   "metadata": {},
   "outputs": [],
   "source": [
    "def is_prime():\n",
    "    x=int(input('Enter the number? '))\n",
    "    factor_list=[]\n",
    "    for i in range(2,x):\n",
    "        if x%i==0:\n",
    "            factor_list.append(i)\n",
    "    if len(factor_list)>0:\n",
    "        print(f'{x} is not a prime number')\n",
    "    else:\n",
    "        print(f'{x} is a prime number')"
   ]
  },
  {
   "cell_type": "code",
   "execution_count": 10,
   "id": "477ba34f-e6e3-4551-abc5-487a13084a36",
   "metadata": {},
   "outputs": [
    {
     "name": "stdin",
     "output_type": "stream",
     "text": [
      "Enter the number?  10\n"
     ]
    },
    {
     "name": "stdout",
     "output_type": "stream",
     "text": [
      "10 is not a prime number\n"
     ]
    }
   ],
   "source": [
    "is_prime()"
   ]
  },
  {
   "cell_type": "markdown",
   "id": "988e4cd0-d718-4206-9e74-1a2d90b0dd2d",
   "metadata": {},
   "source": [
    "<center> \n",
    "    <h1 style=\"color:orange;font-family:cursive\"> DAY 18<h1>\n",
    "</center>Letter Counter: Take a word and count how often each letter appears\n",
    "using a dictionary.Use a dictionary to count letters.\n",
    "Use dict.get(char, 0) for safe\n",
    "addition."
   ]
  },
  {
   "cell_type": "code",
   "execution_count": 5,
   "id": "29b08244-f7aa-4f71-8f65-40262b929d1f",
   "metadata": {},
   "outputs": [],
   "source": [
    "def word():\n",
    "    enter_word=input(\"Enter the word: \")\n",
    "    enter_word=enter_word.lower()\n",
    "    d=dict()\n",
    "    for i in enter_word:\n",
    "        if i not in d:\n",
    "            d[i]=1\n",
    "        else:\n",
    "            d[i]+=1\n",
    "    return d"
   ]
  },
  {
   "cell_type": "code",
   "execution_count": 7,
   "id": "454b84f1-2635-4bd7-a29e-6d20c203435c",
   "metadata": {},
   "outputs": [
    {
     "name": "stdin",
     "output_type": "stream",
     "text": [
      "Enter the word:  gujhujhd\n"
     ]
    },
    {
     "data": {
      "text/plain": [
       "{'g': 1, 'u': 2, 'j': 2, 'h': 2, 'd': 1}"
      ]
     },
     "execution_count": 7,
     "metadata": {},
     "output_type": "execute_result"
    }
   ],
   "source": [
    "word()"
   ]
  },
  {
   "cell_type": "markdown",
   "id": "cd6763fc-e37d-43c1-8f06-0151510e330d",
   "metadata": {},
   "source": [
    "<center> \n",
    "    <h1 style=\"color:yellow;font-family:cursive\"> DAY 19<h1>\n",
    "</center>To-Do List: Build a mini app to add/remove/show tasks using a list. Use a list to store tasks and build\n",
    "a menu system with loops and\n",
    "conditionals."
   ]
  },
  {
   "cell_type": "code",
   "execution_count": 1,
   "id": "70249fb8-8eb7-449f-99ec-54d3763348d8",
   "metadata": {},
   "outputs": [],
   "source": [
    "def tasks():\n",
    "    task=input(\"please enter the task\")\n",
    "    tasklist=[task]\n",
    "    add=input('do you want to add another task? (Y)es or (N)o')\n",
    "    if add=='Y':\n",
    "        tasklist.append(input('enter task:'))\n",
    "        add\n",
    "    return tasklist"
   ]
  },
  {
   "cell_type": "code",
   "execution_count": 2,
   "id": "ec154adf-0e62-4c7f-b322-a49ab67aeb29",
   "metadata": {},
   "outputs": [],
   "source": [
    "task_list=[]\n",
    "def tasks(task,operation):\n",
    "    if operation=='add':\n",
    "        task_list.append(task)\n",
    "    if operation=='remove':\n",
    "        task_list.remove(task)\n",
    "    if operation=='show':\n",
    "        return task_list"
   ]
  },
  {
   "cell_type": "code",
   "execution_count": 5,
   "id": "d6da35e3-d56b-4e77-84d5-1b014ba07be3",
   "metadata": {},
   "outputs": [],
   "source": [
    "tasks(\"eat\",\"remove\")\n",
    "tasks(\"drink\",\"add\")\n",
    "tasks(\"merry\",\"add\")\n"
   ]
  },
  {
   "cell_type": "code",
   "execution_count": 6,
   "id": "9e73baba-b713-479d-89f8-fc9b9baa0aa6",
   "metadata": {},
   "outputs": [
    {
     "data": {
      "text/plain": [
       "['drink', 'merry', 'drink', 'merry']"
      ]
     },
     "execution_count": 6,
     "metadata": {},
     "output_type": "execute_result"
    }
   ],
   "source": [
    "tasks(' ','show')"
   ]
  },
  {
   "cell_type": "markdown",
   "id": "c96dfcfb-6b44-4371-a713-f5c9cc29b014",
   "metadata": {},
   "source": [
    "<center> \n",
    "    <h1 style=\"color:green;font-family:cursive\"> DAY 20<h1>\n",
    "</center>Second Largest: Find the second largest number in a list without using\n",
    "‘sort()‘."
   ]
  },
  {
   "cell_type": "code",
   "execution_count": 7,
   "id": "0d327c53-9abd-4edb-b518-519f24654869",
   "metadata": {},
   "outputs": [
    {
     "name": "stdout",
     "output_type": "stream",
     "text": [
      "[200, 18, 11, 8, 7, 6, 4, 3, 2, 1, -5]\n"
     ]
    },
    {
     "data": {
      "text/plain": [
       "18"
      ]
     },
     "execution_count": 7,
     "metadata": {},
     "output_type": "execute_result"
    }
   ],
   "source": [
    "my_list=[3,8,2,7,1,4,11,6,200,-5,18]\n",
    "k=0\n",
    "while k<len(my_list):\n",
    "    for i in range(len(my_list)-1):\n",
    "        if my_list[i]>my_list[i+1]:\n",
    "            my_list[i]=my_list[i]\n",
    "        else:\n",
    "            my_list[i+1],my_list[i]=my_list[i],my_list[i+1]\n",
    "    k+=1\n",
    "print (my_list)  \n",
    "my_list[1]"
   ]
  },
  {
   "cell_type": "markdown",
   "id": "a1ac1b69-d943-4553-9797-8ece952faf24",
   "metadata": {},
   "source": [
    "<center> \n",
    "    <h1 style=\"color:blue;font-family:cursive\"> DAY 21<h1>\n",
    "</center>Fibonacci Generator: Write a function to generate the Fibonacci sequence up to n terms."
   ]
  },
  {
   "cell_type": "code",
   "execution_count": 46,
   "id": "a6db7866-978e-4e62-99d7-2b5c45ca6851",
   "metadata": {},
   "outputs": [],
   "source": [
    "def Fibo(n):\n",
    "    if n==0:\n",
    "       return 0\n",
    "    if n==1:\n",
    "        return 1\n",
    "    if n>=1:\n",
    "        return Fibo(n-1)+Fibo(n-2)\n",
    "    \n",
    "    \n",
    "    "
   ]
  },
  {
   "cell_type": "code",
   "execution_count": 49,
   "id": "422d49ea-3f39-4a02-9d49-f0c9cb0158ef",
   "metadata": {},
   "outputs": [
    {
     "data": {
      "text/plain": [
       "2"
      ]
     },
     "execution_count": 49,
     "metadata": {},
     "output_type": "execute_result"
    }
   ],
   "source": [
    "Fibo(3)"
   ]
  },
  {
   "cell_type": "code",
   "execution_count": 58,
   "id": "78996751-8cbb-4fad-bf2f-024126ae46b0",
   "metadata": {},
   "outputs": [
    {
     "name": "stdin",
     "output_type": "stream",
     "text": [
      "enter n 9\n"
     ]
    },
    {
     "name": "stdout",
     "output_type": "stream",
     "text": [
      "0 1 1 2 3 5 8 13 21 "
     ]
    }
   ],
   "source": [
    " for i in range(int(input('enter n'))):\n",
    "        print(Fibo(i),end=\" \")"
   ]
  },
  {
   "cell_type": "markdown",
   "id": "af24f76b-122e-4664-b7a5-59b2e11aaa80",
   "metadata": {},
   "source": [
    "<center> \n",
    "    <h1 style=\"color:indigo;font-family:cursive\"> DAY 22<h1>\n",
    "</center>File Reader: Read and print a text file line by line."
   ]
  },
  {
   "cell_type": "code",
   "execution_count": 67,
   "id": "24ac1cd4-7816-4689-9259-a30eb31c21e7",
   "metadata": {},
   "outputs": [
    {
     "name": "stdout",
     "output_type": "stream",
     "text": [
      "My name is Priscilla. Guess what? I clicked a link to bring me here. Let's go, baby. If you don't agree to contribute to society, you are going down. \n",
      "\n",
      "I took several trips during my lifetime. I needed to pay bills. \n"
     ]
    }
   ],
   "source": [
    "file=open(\"C://Users//Thinkpad//Downloads//read_this.txt\",'r')\n",
    "content=file.read()\n",
    "print(content)\n",
    "file.close()"
   ]
  },
  {
   "cell_type": "markdown",
   "id": "26e5bd2f-201a-4c2b-a5cd-b1845e22640b",
   "metadata": {},
   "source": [
    "<center> \n",
    "    <h1 style=\"color:violet;font-family:cursive\"> DAY 23<h1>\n",
    "</center>Number Guess Redux: Improve your guessing game with error handling\n",
    "and a play-again option."
   ]
  },
  {
   "cell_type": "code",
   "execution_count": 46,
   "id": "80524ba9-a82f-45ae-a478-5eed98464634",
   "metadata": {},
   "outputs": [],
   "source": [
    "def game():\n",
    "    guess=input(\"Guess a number\")\n",
    "    random_number=7\n",
    "    try:\n",
    "        if int(guess)==random_number:\n",
    "            return ('congratulations')\n",
    "        else:\n",
    "            while int(guess)!=random_number:\n",
    "                print(\"Please try again\")\n",
    "                replay=input(\"do you want to play again (y)es or (n)o?\")\n",
    "                if replay.lower().strip()==\"y\":\n",
    "                   return game()\n",
    "                else:\n",
    "                    return 'better luck next time'    \n",
    "    except ValueError:\n",
    "        print(\"Please enter a number\")\n",
    "        return game()\n",
    "\n",
    "    \n"
   ]
  },
  {
   "cell_type": "code",
   "execution_count": 47,
   "id": "8fde9464-7dd6-41ce-8f74-73558f6ae9c5",
   "metadata": {},
   "outputs": [
    {
     "name": "stdin",
     "output_type": "stream",
     "text": [
      "Guess a number y\n"
     ]
    },
    {
     "name": "stdout",
     "output_type": "stream",
     "text": [
      "Please enter a number\n"
     ]
    },
    {
     "name": "stdin",
     "output_type": "stream",
     "text": [
      "Guess a number 7\n"
     ]
    },
    {
     "data": {
      "text/plain": [
       "'congratulations'"
      ]
     },
     "execution_count": 47,
     "metadata": {},
     "output_type": "execute_result"
    }
   ],
   "source": [
    "game()"
   ]
  },
  {
   "cell_type": "markdown",
   "id": "e06cde80-6716-40ea-a3d5-e7940e478fde",
   "metadata": {},
   "source": [
    "<center> \n",
    "    <h1 style=\"color:brown;font-family:fantasy\"> DAY 23<h1>\n",
    "</center>Hangman Lite: Build a simple hangman game with one hardcoded word.\n",
    "Track user guesses."
   ]
  },
  {
   "cell_type": "code",
   "execution_count": 80,
   "id": "51984267-b0c3-4f69-84b8-0966d019f146",
   "metadata": {},
   "outputs": [],
   "source": [
    "def ent_letter():\n",
    "    x=input(\"enter another letter\")\n",
    "    return x.upper()"
   ]
  },
  {
   "cell_type": "code",
   "execution_count": 117,
   "id": "bf9feeea-27f7-427e-a8f4-e89d9adac5a4",
   "metadata": {},
   "outputs": [
    {
     "name": "stdout",
     "output_type": "stream",
     "text": [
      "['T', 'P', 'S', 'I', 'Y', 'E', 'R', 'O']\n",
      "Bye. try again later\n"
     ]
    },
    {
     "name": "stdin",
     "output_type": "stream",
     "text": [
      "enter another letter j\n"
     ]
    }
   ],
   "source": [
    "word=\"Repository\".upper()\n",
    "word_listed=[i for i in word]\n",
    "word_list=[i for i in list(set(word_listed))]\n",
    "word_list_update=[]\n",
    "import random\n",
    "letter=random.choice(word)\n",
    "chances=5\n",
    "flag=0\n",
    "print(word_list)\n",
    "try:\n",
    "    while chances!=0:\n",
    "        k=str(ent_letter())\n",
    "        if k in word_list:\n",
    "            word_list_update.append(k)\n",
    "            word_list.remove(k)\n",
    "            flag+=1 \n",
    "            print(f\"you have gotten {flag} words right\")\n",
    "            if len(word_list)==0:\n",
    "                print(f\"Congratulations!! the word was {word}\")\n",
    "                break\n",
    "        # ent_letter=input(\"enter another letter\")\n",
    "        # if ent_letter in word_list:\n",
    "        #         ent_letter\n",
    "        else:\n",
    "            chances-=1\n",
    "            print(f\"you have {chances} chances left\")\n",
    "            if chances==0:\n",
    "                print(\"you have run out of chances\")\n",
    "except KeyboardInterrupt:\n",
    "    print(\"Bye. try again later\")\n",
    "    exit()"
   ]
  },
  {
   "cell_type": "code",
   "execution_count": 100,
   "id": "e2fb8af4-89f9-4cdd-b078-47787aed8824",
   "metadata": {},
   "outputs": [
    {
     "name": "stdout",
     "output_type": "stream",
     "text": [
      "Guess the word! HINT: word is a name of a fruit\n",
      "_ _ _ _ _ _ _ _ _ _ \n",
      "\n"
     ]
    },
    {
     "name": "stdin",
     "output_type": "stream",
     "text": [
      "Enter a letter to guess:  p\n"
     ]
    },
    {
     "name": "stdout",
     "output_type": "stream",
     "text": [
      "_ _ _ _ _ _ _ _ _ _ \n"
     ]
    },
    {
     "name": "stdin",
     "output_type": "stream",
     "text": [
      "Enter a letter to guess:  e\n"
     ]
    },
    {
     "name": "stdout",
     "output_type": "stream",
     "text": [
      "_ _ _ _ _ _ e _ _ _ \n"
     ]
    },
    {
     "name": "stdin",
     "output_type": "stream",
     "text": [
      "Enter a letter to guess:  a\n"
     ]
    },
    {
     "name": "stdout",
     "output_type": "stream",
     "text": [
      "_ _ _ a _ _ e _ _ _ \n"
     ]
    },
    {
     "name": "stdin",
     "output_type": "stream",
     "text": [
      "Enter a letter to guess:  s\n"
     ]
    },
    {
     "name": "stdout",
     "output_type": "stream",
     "text": [
      "s _ _ a _ _ e _ _ _ \n"
     ]
    },
    {
     "name": "stdin",
     "output_type": "stream",
     "text": [
      "Enter a letter to guess:  t\n"
     ]
    },
    {
     "name": "stdout",
     "output_type": "stream",
     "text": [
      "s t _ a _ _ e _ _ _ \n"
     ]
    },
    {
     "name": "stdin",
     "output_type": "stream",
     "text": [
      "Enter a letter to guess:  w\n"
     ]
    },
    {
     "name": "stdout",
     "output_type": "stream",
     "text": [
      "s t _ a w _ e _ _ _ \n"
     ]
    },
    {
     "name": "stdin",
     "output_type": "stream",
     "text": [
      "Enter a letter to guess:  r\n"
     ]
    },
    {
     "name": "stdout",
     "output_type": "stream",
     "text": [
      "s t r a w _ e r r _ \n"
     ]
    },
    {
     "name": "stdin",
     "output_type": "stream",
     "text": [
      "Enter a letter to guess:  b\n"
     ]
    },
    {
     "name": "stdout",
     "output_type": "stream",
     "text": [
      "s t r a w b e r r _ \n"
     ]
    },
    {
     "name": "stdin",
     "output_type": "stream",
     "text": [
      "Enter a letter to guess:  y\n"
     ]
    },
    {
     "name": "stdout",
     "output_type": "stream",
     "text": [
      "The word is:  strawberry\n",
      "Congratulations, You won!\n"
     ]
    }
   ],
   "source": []
  },
  {
   "cell_type": "code",
   "execution_count": 4,
   "id": "efcc23d4-4574-442d-8a6a-30be27ff6cb6",
   "metadata": {},
   "outputs": [
    {
     "name": "stdout",
     "output_type": "stream",
     "text": [
      "Guess the word! Hint: The word is a FRUIT\n",
      "_ _ _ _ _ "
     ]
    },
    {
     "name": "stdin",
     "output_type": "stream",
     "text": [
      "Enter a letter to guess:  u\n"
     ]
    },
    {
     "name": "stdout",
     "output_type": "stream",
     "text": [
      "_ _ _ _ _ "
     ]
    },
    {
     "name": "stdin",
     "output_type": "stream",
     "text": [
      "Enter a letter to guess:  i\n"
     ]
    },
    {
     "name": "stdout",
     "output_type": "stream",
     "text": [
      "_ _ _ _ _ "
     ]
    },
    {
     "name": "stdin",
     "output_type": "stream",
     "text": [
      "Enter a letter to guess:  g\n"
     ]
    },
    {
     "name": "stdout",
     "output_type": "stream",
     "text": [
      "g _ _ _ _ "
     ]
    },
    {
     "name": "stdin",
     "output_type": "stream",
     "text": [
      "Enter a letter to guess:  r\n"
     ]
    },
    {
     "name": "stdout",
     "output_type": "stream",
     "text": [
      "g r _ _ _ "
     ]
    },
    {
     "name": "stdin",
     "output_type": "stream",
     "text": [
      "Enter a letter to guess:  a\n"
     ]
    },
    {
     "name": "stdout",
     "output_type": "stream",
     "text": [
      "g r a _ _ "
     ]
    },
    {
     "name": "stdin",
     "output_type": "stream",
     "text": [
      "Enter a letter to guess:  p\n"
     ]
    },
    {
     "name": "stdout",
     "output_type": "stream",
     "text": [
      "g r a p _ "
     ]
    },
    {
     "name": "stdin",
     "output_type": "stream",
     "text": [
      "Enter a letter to guess:  e\n"
     ]
    },
    {
     "name": "stdout",
     "output_type": "stream",
     "text": [
      "congratulations you have guessed the word\n",
      "The word is: grape\n"
     ]
    }
   ],
   "source": [
    "import random\n",
    "from collections import Counter\n",
    "\n",
    "someWords = '''apple banana mango strawberry \n",
    "orange grape pineapple apricot lemon coconut watermelon \n",
    "cherry papaya berry peach lychee muskmelon'''\n",
    "someWords=someWords.split()\n",
    "word=random.choice(someWords)\n",
    "\n",
    "if __name__==\"__main__\":\n",
    "    print(\"Guess the word! Hint: The word is a FRUIT\")\n",
    "\n",
    "    for i in word:\n",
    "        print(\"_\",end=\" \")\n",
    "\n",
    "    playing=True\n",
    "    letterGuessed=\"\"\n",
    "    chances=len(word)+2\n",
    "    correct=0\n",
    "    flag=0\n",
    "    while chances!=0 and flag==0:\n",
    "        guess=str(input(\"Enter a letter to guess: \"))\n",
    "        if not guess.isalpha():\n",
    "            print(\"not a letter\")\n",
    "        elif len(guess)>1:\n",
    "            print(\"Enter one character\")\n",
    "        elif guess in letterGuessed:\n",
    "            print(\"You have already guessed this letter\")\n",
    "        if guess in word:\n",
    "            k = word.count(guess)\n",
    "            for _ in range(k):\n",
    "                letterGuessed+=guess\n",
    "\n",
    "        chances-=1\n",
    "\n",
    "        for char in word:\n",
    "            if char in letterGuessed and Counter(letterGuessed)!=Counter(word):\n",
    "                print(char, end=\" \")\n",
    "            elif Counter(letterGuessed)==Counter(word):\n",
    "                 print(\"congratulations you have guessed the word\")\n",
    "                 flag=1\n",
    "                 print(\"The word is:\",word)\n",
    "                 break\n",
    "            else:\n",
    "                print(\"_\", end=\" \")\n",
    "                \n",
    "if chances <= 0 and Counter(letterGuessed) != Counter(word):\n",
    "    print()\n",
    "    print(\"You lost! Try again...\")\n",
    "    print(\"The word was:\", word)       \n",
    "\n"
   ]
  },
  {
   "cell_type": "code",
   "execution_count": null,
   "id": "52f58b45-743b-46be-addf-b9cafa3f04a2",
   "metadata": {},
   "outputs": [],
   "source": []
  },
  {
   "cell_type": "markdown",
   "id": "d3e1ce0d-2e71-4cf8-98f4-ba6b3cb17576",
   "metadata": {},
   "source": [
    "<center> \n",
    "    <h1 style=\"color:teal;font-family:fantasy\"> DAY 24<h1>\n",
    "</center>\n",
    "Contact Book: Use a dictionary to save names and phone numbers. Include add, delete, search."
   ]
  },
  {
   "cell_type": "code",
   "execution_count": 3,
   "id": "808cd0d8-6310-4a42-856f-288af0d2cfb3",
   "metadata": {},
   "outputs": [],
   "source": [
    "contact={\"Oye\": {\"address\":\"Accra\", \"Phone\":\"0241590777\"}}"
   ]
  },
  {
   "cell_type": "code",
   "execution_count": 29,
   "id": "57111308-059b-476a-94df-d73d96a27e29",
   "metadata": {},
   "outputs": [],
   "source": [
    "def contact_book_add():\n",
    "    name=input(\"Enter name: \")\n",
    "    address=input(\"Enter address: \")\n",
    "    phone=input(\"Enter phone number: \")\n",
    "    if name in contact.keys():\n",
    "        print(\"This name already exists in your contact list\")\n",
    "    else:\n",
    "        contact[name]={\"address\":address, \"Phone\":phone}\n",
    "    return contact\n",
    "    "
   ]
  },
  {
   "cell_type": "code",
   "execution_count": 18,
   "id": "c0e813a0-8f72-4225-84b7-9e5d28908351",
   "metadata": {},
   "outputs": [],
   "source": [
    "def contact_book_delete():\n",
    "    name=input(\"Enter the name you want to delete: \")\n",
    "    if name in contact.keys():\n",
    "        verify=input(\"Are you sure you want to delete this number? (Yes) or (No)\")\n",
    "        if verify==\"Yes\":\n",
    "            del contact[name]\n",
    "    else:\n",
    "        print(\"This name is not in your contact list\")"
   ]
  },
  {
   "cell_type": "code",
   "execution_count": 23,
   "id": "fdfe8783-22ec-4866-bd96-ee22c81dcdd0",
   "metadata": {},
   "outputs": [],
   "source": [
    "def contact_book_search():\n",
    "    name=input(\"Enter name you want to find: \")\n",
    "    return contact[name]\n",
    "    "
   ]
  },
  {
   "cell_type": "code",
   "execution_count": 26,
   "id": "448f08c6-ee3c-4323-8d27-79d7500d5ffe",
   "metadata": {},
   "outputs": [],
   "source": [
    "def contact_book():\n",
    "    entry=input(\"Enter a to add a contact, d to delete a contact and s to search for a contact: \")\n",
    "    if len(entry)>1:\n",
    "        print(\"you can only enter one character at a time\")\n",
    "    elif entry==\"a\":\n",
    "        return contact_book_add()\n",
    "    elif entry==\"d\":\n",
    "        return contact_book_delete()\n",
    "    elif entry==\"s\":\n",
    "        return contact_book_search()\n",
    "    else:\n",
    "        return \"please enter a value\"\n"
   ]
  },
  {
   "cell_type": "code",
   "execution_count": 30,
   "id": "35b3de62-26df-427f-9136-7b96951ab60a",
   "metadata": {},
   "outputs": [
    {
     "name": "stdin",
     "output_type": "stream",
     "text": [
      "Enter a to add a contact, d to delete a contact and s to search for a contact:  a\n",
      "Enter name:  hola\n",
      "Enter address:  yemen\n",
      "Enter phone number:  458902\n"
     ]
    },
    {
     "data": {
      "text/plain": [
       "{'ama': {'address': 'ho', 'Phone': '043268901'},\n",
       " 'tina': {'address': 'adenta', 'Phone': '056790235'},\n",
       " 'hola': {'address': 'yemen', 'Phone': '458902'}}"
      ]
     },
     "execution_count": 30,
     "metadata": {},
     "output_type": "execute_result"
    }
   ],
   "source": [
    "contact_book()\n",
    "\n"
   ]
  },
  {
   "cell_type": "markdown",
   "id": "671a3b12-d643-4e0d-8eaf-cc913de627dd",
   "metadata": {},
   "source": [
    "<center> \n",
    "    <h1 style=\"color:#9a0302;font-family:fantasy\"> DAY 25<h1>\n",
    "</center>JSON Save: Save a Python dictionary to a ‘.json‘ file and read it back."
   ]
  },
  {
   "cell_type": "code",
   "execution_count": 36,
   "id": "ce095013-6f4d-4df2-a1f5-7708f2339a8d",
   "metadata": {},
   "outputs": [],
   "source": [
    "# json.dumps() converts a dictionary into a JSON-formatted string\n",
    "import json\n",
    "mydict={1:\"oye\",2:\"ama\",3:\"kojo\",4:\"kweku\"}"
   ]
  },
  {
   "cell_type": "code",
   "execution_count": 39,
   "id": "a0e7fbb8-728e-4ef5-878b-dd966ef3f311",
   "metadata": {},
   "outputs": [
    {
     "data": {
      "text/plain": [
       "'{\"1\": \"oye\", \"2\": \"ama\", \"3\": \"kojo\", \"4\": \"kweku\"}'"
      ]
     },
     "execution_count": 39,
     "metadata": {},
     "output_type": "execute_result"
    }
   ],
   "source": [
    "json_string=json.dumps(mydict)\n",
    "json_string"
   ]
  },
  {
   "cell_type": "code",
   "execution_count": 46,
   "id": "45f95dab-4a07-41d4-9f62-34e325dffb72",
   "metadata": {},
   "outputs": [],
   "source": [
    "# we use the following to open a new file or create one if there is none with that name\n",
    "with open(\"people.json\",\"w\") as file:\n",
    "    file.write(json_string)\n",
    "    file.close()"
   ]
  },
  {
   "cell_type": "code",
   "execution_count": 47,
   "id": "ef00344f-6d56-4124-9274-7a83a97564c8",
   "metadata": {},
   "outputs": [],
   "source": [
    "with open(\"people.json\",\"r\") as file1:\n",
    "    data=json.load(file1)\n"
   ]
  },
  {
   "cell_type": "code",
   "execution_count": 48,
   "id": "284468c1-8c0f-447d-bb41-768f776ea322",
   "metadata": {},
   "outputs": [
    {
     "name": "stdout",
     "output_type": "stream",
     "text": [
      "{'1': 'oye', '2': 'ama', '3': 'kojo', '4': 'kweku'}\n"
     ]
    }
   ],
   "source": [
    "print(data)"
   ]
  },
  {
   "cell_type": "markdown",
   "id": "cb49b070-06a5-473e-866a-de2adfbeb43b",
   "metadata": {},
   "source": [
    "<center> \n",
    "    <h1 style=\"color:#69efd5;font-family:fantasy\"> DAY 26<h1>\n",
    "</center>Timer: Start a timer, stop it with a keypress, and show elapsed time.\n",
    "Use ‘time‘ module."
   ]
  },
  {
   "cell_type": "code",
   "execution_count": null,
   "id": "85b129c2-9eaf-4f56-a45a-e7f5ccea1904",
   "metadata": {},
   "outputs": [],
   "source": []
  }
 ],
 "metadata": {
  "kernelspec": {
   "display_name": "Python 3 (ipykernel)",
   "language": "python",
   "name": "python3"
  },
  "language_info": {
   "codemirror_mode": {
    "name": "ipython",
    "version": 3
   },
   "file_extension": ".py",
   "mimetype": "text/x-python",
   "name": "python",
   "nbconvert_exporter": "python",
   "pygments_lexer": "ipython3",
   "version": "3.12.6"
  }
 },
 "nbformat": 4,
 "nbformat_minor": 5
}
